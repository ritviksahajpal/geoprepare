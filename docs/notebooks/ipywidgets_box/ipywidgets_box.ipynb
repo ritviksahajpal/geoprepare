{
 "cells": [
  {
   "cell_type": "markdown",
   "metadata": {},
   "source": [
    "![](https://i.imgur.com/MzTCZsz.png)"
   ]
  },
  {
   "cell_type": "code",
   "execution_count": null,
   "metadata": {},
   "outputs": [],
   "source": [
    "# import geemap\n",
    "# Map = geemap.Map()\n",
    "# Map"
   ]
  },
  {
   "cell_type": "code",
   "execution_count": null,
   "metadata": {},
   "outputs": [],
   "source": [
    "import ipywidgets as widgets"
   ]
  },
  {
   "cell_type": "code",
   "execution_count": null,
   "metadata": {},
   "outputs": [],
   "source": [
    "widget_width = \"250px\"\n",
    "padding = \"0px 0px 0px 4px\"  # upper, right, bottom, left"
   ]
  },
  {
   "cell_type": "markdown",
   "metadata": {},
   "source": [
    "icon: https://fontawesome.com/v4.7.0/icons/"
   ]
  },
  {
   "cell_type": "code",
   "execution_count": null,
   "metadata": {},
   "outputs": [],
   "source": [
    "toolbar_button = widgets.ToggleButton(\n",
    "    value=False,\n",
    "    tooltip=\"Toolbar\",\n",
    "    icon=\"gear\",\n",
    "    layout=widgets.Layout(width=\"28px\", height=\"28px\", padding=padding),\n",
    ")\n",
    "toolbar_button"
   ]
  },
  {
   "cell_type": "code",
   "execution_count": null,
   "metadata": {},
   "outputs": [],
   "source": [
    "# toolbar_button.layout.width = \"28px\""
   ]
  },
  {
   "cell_type": "code",
   "execution_count": null,
   "metadata": {},
   "outputs": [],
   "source": [
    "toolbar_button.value"
   ]
  },
  {
   "cell_type": "code",
   "execution_count": null,
   "metadata": {},
   "outputs": [],
   "source": [
    "close_button = widgets.ToggleButton(\n",
    "    value=False,\n",
    "    tooltip=\"Close the tool\",\n",
    "    icon=\"times\",\n",
    "    button_style=\"primary\",\n",
    "    layout=widgets.Layout(height=\"28px\", width=\"28px\", padding=padding),\n",
    ")\n",
    "close_button"
   ]
  },
  {
   "cell_type": "code",
   "execution_count": null,
   "metadata": {},
   "outputs": [],
   "source": [
    "widgets.HBox([close_button, toolbar_button])"
   ]
  },
  {
   "cell_type": "code",
   "execution_count": null,
   "metadata": {},
   "outputs": [],
   "source": [
    "box = widgets.HBox()\n",
    "box.children = [close_button, toolbar_button]\n",
    "box"
   ]
  },
  {
   "cell_type": "code",
   "execution_count": null,
   "metadata": {},
   "outputs": [],
   "source": [
    "checkbox = widgets.Checkbox(\n",
    "    description=\"Checkbox\",\n",
    "    indent=False,\n",
    "    layout=widgets.Layout(padding=padding, width=widget_width),\n",
    ")\n",
    "checkbox"
   ]
  },
  {
   "cell_type": "code",
   "execution_count": null,
   "metadata": {},
   "outputs": [],
   "source": [
    "dropdown = widgets.Dropdown(\n",
    "    options=[\"Option 1\", \"Option 2\", \"Option 3\"],\n",
    "    value=None,\n",
    "    description=\"Dropdown:\",\n",
    "    layout=widgets.Layout(width=widget_width, padding=padding),\n",
    "    style={\"description_width\": \"initial\"},\n",
    ")\n",
    "dropdown"
   ]
  },
  {
   "cell_type": "code",
   "execution_count": null,
   "metadata": {},
   "outputs": [],
   "source": [
    "int_slider = widgets.IntSlider(\n",
    "    min=1,\n",
    "    max=100,\n",
    "    description=\"Int Slider: \",\n",
    "    readout=False,\n",
    "    continuous_update=True,\n",
    "    layout=widgets.Layout(width=\"220px\", padding=padding),\n",
    "    style={\"description_width\": \"initial\"},\n",
    ")\n",
    "int_slider"
   ]
  },
  {
   "cell_type": "code",
   "execution_count": null,
   "metadata": {},
   "outputs": [],
   "source": [
    "int_slider_label = widgets.Label()\n",
    "widgets.jslink((int_slider, \"value\"), (int_slider_label, \"value\"))"
   ]
  },
  {
   "cell_type": "code",
   "execution_count": null,
   "metadata": {},
   "outputs": [],
   "source": [
    "widgets.HBox([int_slider, int_slider_label])"
   ]
  },
  {
   "cell_type": "code",
   "execution_count": null,
   "metadata": {},
   "outputs": [],
   "source": [
    "float_slider = widgets.FloatSlider(\n",
    "    min=1,\n",
    "    max=100,\n",
    "    description=\"Float Slider: \",\n",
    "    readout=False,\n",
    "    continuous_update=True,\n",
    "    layout=widgets.Layout(width=\"220px\", padding=padding),\n",
    "    style={\"description_width\": \"initial\"},\n",
    ")\n",
    "\n",
    "float_slider_label = widgets.Label()\n",
    "widgets.jslink((float_slider, \"value\"), (float_slider_label, \"value\"))\n",
    "widgets.HBox([float_slider, float_slider_label])"
   ]
  },
  {
   "cell_type": "code",
   "execution_count": null,
   "metadata": {},
   "outputs": [],
   "source": [
    "color = widgets.ColorPicker(\n",
    "    concise=False,\n",
    "    description=\"Color:\",\n",
    "    value=\"white\",\n",
    "    style={\"description_width\": \"initial\"},\n",
    "    layout=widgets.Layout(width=widget_width, padding=padding),\n",
    ")\n",
    "color"
   ]
  },
  {
   "cell_type": "code",
   "execution_count": null,
   "metadata": {},
   "outputs": [],
   "source": [
    "text = widgets.Text(\n",
    "    value=\"\",\n",
    "    description=\"Textbox:\",\n",
    "    placeholder=\"Enter sth.\",\n",
    "    style={\"description_width\": \"initial\"},\n",
    "    layout=widgets.Layout(width=widget_width, padding=padding),\n",
    ")\n",
    "text"
   ]
  },
  {
   "cell_type": "code",
   "execution_count": null,
   "metadata": {},
   "outputs": [],
   "source": [
    "textarea = widgets.Textarea(\n",
    "    placeholder=\"Placeholder\",\n",
    "    layout=widgets.Layout(width=widget_width),\n",
    ")\n",
    "textarea"
   ]
  },
  {
   "cell_type": "code",
   "execution_count": null,
   "metadata": {},
   "outputs": [],
   "source": [
    "buttons = widgets.ToggleButtons(\n",
    "    value=None,\n",
    "    options=[\"Apply\", \"Reset\", \"Close\"],\n",
    "    tooltips=[\"Apply\", \"Reset\", \"Close\"],\n",
    "    button_style=\"primary\",\n",
    ")\n",
    "buttons.style.button_width = \"80px\"\n",
    "buttons"
   ]
  },
  {
   "cell_type": "code",
   "execution_count": null,
   "metadata": {},
   "outputs": [],
   "source": [
    "output = widgets.Output(layout=widgets.Layout(width=widget_width, padding=padding))\n",
    "with output:\n",
    "    output.clear_output()\n",
    "    print(\"Running ...\")\n",
    "output"
   ]
  },
  {
   "cell_type": "code",
   "execution_count": null,
   "metadata": {},
   "outputs": [],
   "source": [
    "toolbar_widget = widgets.VBox()\n",
    "toolbar_widget.children = [\n",
    "    widgets.HBox([close_button, toolbar_button]),\n",
    "    checkbox,\n",
    "    widgets.HBox([int_slider, int_slider_label]),\n",
    "    widgets.HBox([float_slider, float_slider_label]),\n",
    "    dropdown,\n",
    "    text,\n",
    "    color,\n",
    "    textarea,\n",
    "    buttons,\n",
    "    output,\n",
    "]\n",
    "toolbar_widget"
   ]
  }
 ],
 "metadata": {
  "hide_input": false,
  "kernelspec": {
   "display_name": "Python 3",
   "language": "python",
   "name": "python3"
  },
  "language_info": {
   "codemirror_mode": {
    "name": "ipython",
    "version": 3
   },
   "file_extension": ".py",
   "mimetype": "text/x-python",
   "name": "python",
   "nbconvert_exporter": "python",
   "pygments_lexer": "ipython3",
   "version": "3.8.5"
  },
  "toc": {
   "base_numbering": 1,
   "nav_menu": {},
   "number_sections": true,
   "sideBar": true,
   "skip_h1_title": false,
   "title_cell": "Table of Contents",
   "title_sidebar": "Contents",
   "toc_cell": false,
   "toc_position": {},
   "toc_section_display": true,
   "toc_window_display": false
  },
  "varInspector": {
   "cols": {
    "lenName": 16,
    "lenType": 16,
    "lenVar": 40
   },
   "kernels_config": {
    "python": {
     "delete_cmd_postfix": "",
     "delete_cmd_prefix": "del ",
     "library": "var_list.py",
     "varRefreshCmd": "print(var_dic_list())"
    },
    "r": {
     "delete_cmd_postfix": ") ",
     "delete_cmd_prefix": "rm(",
     "library": "var_list.r",
     "varRefreshCmd": "cat(var_dic_list()) "
    }
   },
   "types_to_exclude": [
    "module",
    "function",
    "builtin_function_or_method",
    "instance",
    "_Feature"
   ],
   "window_display": false
  }
 },
 "nbformat": 4,
 "nbformat_minor": 4
}
