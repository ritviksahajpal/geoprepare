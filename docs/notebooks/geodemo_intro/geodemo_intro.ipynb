{
 "cells": [
  {
   "cell_type": "code",
   "execution_count": null,
   "id": "civic-cycling",
   "metadata": {},
   "outputs": [],
   "source": [
    "import geodemo"
   ]
  },
  {
   "cell_type": "code",
   "execution_count": null,
   "id": "progressive-century",
   "metadata": {},
   "outputs": [],
   "source": [
    "m = geodemo.Map()\n",
    "m"
   ]
  },
  {
   "cell_type": "code",
   "execution_count": null,
   "id": "photographic-stereo",
   "metadata": {},
   "outputs": [],
   "source": [
    "import ipyleaflet\n",
    "m = ipyleaflet.Map()\n",
    "m"
   ]
  },
  {
   "cell_type": "code",
   "execution_count": null,
   "id": "vocational-titanium",
   "metadata": {},
   "outputs": [],
   "source": []
  }
 ],
 "metadata": {
  "kernelspec": {
   "display_name": "Python 3",
   "language": "python",
   "name": "python3"
  },
  "language_info": {
   "codemirror_mode": {
    "name": "ipython",
    "version": 3
   },
   "file_extension": ".py",
   "mimetype": "text/x-python",
   "name": "python",
   "nbconvert_exporter": "python",
   "pygments_lexer": "ipython3",
   "version": "3.9.1"
  }
 },
 "nbformat": 4,
 "nbformat_minor": 5
}