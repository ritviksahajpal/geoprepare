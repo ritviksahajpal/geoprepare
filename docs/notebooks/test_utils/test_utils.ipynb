{
 "cells": [
  {
   "cell_type": "code",
   "execution_count": null,
   "id": "connected-jungle",
   "metadata": {},
   "outputs": [],
   "source": [
    "import geodemo"
   ]
  },
  {
   "cell_type": "code",
   "execution_count": null,
   "id": "charming-deviation",
   "metadata": {},
   "outputs": [],
   "source": [
    "m = geodemo.Map()\n",
    "m"
   ]
  },
  {
   "cell_type": "code",
   "execution_count": null,
   "id": "unsigned-smell",
   "metadata": {},
   "outputs": [],
   "source": [
    "m.add_geojson(\"./data/us_states.geojson\", layer_name=\"GeoJSON\")"
   ]
  },
  {
   "cell_type": "code",
   "execution_count": null,
   "id": "criminal-bones",
   "metadata": {},
   "outputs": [],
   "source": []
  }
 ],
 "metadata": {
  "kernelspec": {
   "display_name": "Python 3",
   "language": "python",
   "name": "python3"
  },
  "language_info": {
   "codemirror_mode": {
    "name": "ipython",
    "version": 3
   },
   "file_extension": ".py",
   "mimetype": "text/x-python",
   "name": "python",
   "nbconvert_exporter": "python",
   "pygments_lexer": "ipython3",
   "version": "3.9.1"
  }
 },
 "nbformat": 4,
 "nbformat_minor": 5
}
