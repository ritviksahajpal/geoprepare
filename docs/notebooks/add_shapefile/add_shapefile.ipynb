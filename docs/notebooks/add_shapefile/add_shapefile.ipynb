{
 "cells": [
  {
   "cell_type": "code",
   "execution_count": null,
   "id": "possible-judges",
   "metadata": {},
   "outputs": [],
   "source": [
    "import geodemo\n",
    "import os"
   ]
  },
  {
   "cell_type": "code",
   "execution_count": null,
   "id": "animal-commercial",
   "metadata": {},
   "outputs": [],
   "source": [
    "m = geodemo.Map()\n",
    "m"
   ]
  },
  {
   "cell_type": "code",
   "execution_count": null,
   "id": "independent-antenna",
   "metadata": {},
   "outputs": [],
   "source": [
    "style = {\n",
    "    \"stroke\": True,\n",
    "    \"color\": \"#ff0000\",\n",
    "    \"weight\": 2,\n",
    "    \"opacity\": 1,\n",
    "    \"fill\": True,\n",
    "    \"fillColor\": \"#000000\",\n",
    "    \"fillOpacity\": 0.4,\n",
    "}"
   ]
  },
  {
   "cell_type": "code",
   "execution_count": null,
   "id": "neutral-flight",
   "metadata": {},
   "outputs": [],
   "source": [
    "in_shp = \"./data/countries.shp\""
   ]
  },
  {
   "cell_type": "code",
   "execution_count": null,
   "id": "located-butler",
   "metadata": {},
   "outputs": [],
   "source": [
    "m.add_shapefile(in_shp, style=style, layer_name=\"Shapefile\")"
   ]
  },
  {
   "cell_type": "code",
   "execution_count": null,
   "id": "passive-medicaid",
   "metadata": {},
   "outputs": [],
   "source": [
    "in_geojson = \"./data/countries.json\""
   ]
  },
  {
   "cell_type": "code",
   "execution_count": null,
   "id": "occasional-discipline",
   "metadata": {},
   "outputs": [],
   "source": [
    "m.add_geojson(in_geojson, layer_name=\"GeoJSON\")"
   ]
  }
 ],
 "metadata": {
  "kernelspec": {
   "display_name": "Python 3",
   "language": "python",
   "name": "python3"
  },
  "language_info": {
   "codemirror_mode": {
    "name": "ipython",
    "version": 3
   },
   "file_extension": ".py",
   "mimetype": "text/x-python",
   "name": "python",
   "nbconvert_exporter": "python",
   "pygments_lexer": "ipython3",
   "version": "3.9.1"
  }
 },
 "nbformat": 4,
 "nbformat_minor": 5
}
