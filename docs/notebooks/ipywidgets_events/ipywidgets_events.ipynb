{
 "cells": [
  {
   "cell_type": "code",
   "execution_count": null,
   "metadata": {},
   "outputs": [],
   "source": [
    "import ipywidgets as widgets"
   ]
  },
  {
   "cell_type": "markdown",
   "metadata": {},
   "source": [
    "## Button event\n",
    "\n",
    "https://ipywidgets.readthedocs.io/en/latest/examples/Widget%20Events.html#"
   ]
  },
  {
   "cell_type": "code",
   "execution_count": null,
   "metadata": {},
   "outputs": [],
   "source": [
    "print(widgets.Button.on_click.__doc__)"
   ]
  },
  {
   "cell_type": "code",
   "execution_count": null,
   "metadata": {},
   "outputs": [],
   "source": [
    "button = widgets.Button(description=\"Click Me!\", button_style=\"primary\")\n",
    "output = widgets.Output()\n",
    "\n",
    "def on_button_clicked(b):\n",
    "    with output:\n",
    "        print(\"Button clicked.\")\n",
    "\n",
    "button.on_click(on_button_clicked)\n",
    "\n",
    "widgets.VBox([button, output])"
   ]
  },
  {
   "cell_type": "markdown",
   "metadata": {},
   "source": [
    "## Other widget events\n",
    "\n",
    "https://ipywidgets.readthedocs.io/en/latest/examples/Widget%20Events.html#Traitlet-events"
   ]
  },
  {
   "cell_type": "code",
   "execution_count": null,
   "metadata": {},
   "outputs": [],
   "source": [
    "print(widgets.Widget.observe.__doc__)"
   ]
  },
  {
   "cell_type": "markdown",
   "metadata": {},
   "source": [
    "### First example"
   ]
  },
  {
   "cell_type": "code",
   "execution_count": null,
   "metadata": {},
   "outputs": [],
   "source": [
    "buttons = widgets.ToggleButtons(\n",
    "    value=None,\n",
    "    options=[\"Show\", \"Hide\", \"Close\"],\n",
    "    button_style=\"primary\",\n",
    ")\n",
    "buttons.style.button_width = \"80px\"\n",
    "\n",
    "html = widgets.HTML(\n",
    "    value='<img src=\"https://earthengine.google.com/static/images/earth-engine-logo.png\" width=\"100\" height=\"100\">'\n",
    ")\n",
    "\n",
    "vbox = widgets.VBox([buttons, html])\n",
    "vbox"
   ]
  },
  {
   "cell_type": "code",
   "execution_count": null,
   "metadata": {},
   "outputs": [],
   "source": [
    "def handle_btn_click(change):\n",
    "    \n",
    "    if change['new'] == 'Show':\n",
    "        vbox.children = [buttons, html]\n",
    "    elif change['new'] == 'Hide':\n",
    "        vbox.children = [buttons]\n",
    "    elif change['new'] == 'Close':\n",
    "        buttons.close()\n",
    "        html.close()\n",
    "        vbox.close()\n",
    "        \n",
    "buttons.observe(handle_btn_click, \"value\")"
   ]
  },
  {
   "cell_type": "markdown",
   "metadata": {},
   "source": [
    "### Second example"
   ]
  },
  {
   "cell_type": "code",
   "execution_count": null,
   "metadata": {},
   "outputs": [],
   "source": [
    "dropdown = widgets.Dropdown(\n",
    "    options=[\"Landsat\", \"Sentinel\", \"MODIS\"],\n",
    "    value=None,\n",
    "    description=\"Satellite:\",\n",
    "    style={\"description_width\": \"initial\"},\n",
    "    layout=widgets.Layout(width=\"250px\")\n",
    ")\n",
    "\n",
    "btns = widgets.ToggleButtons(\n",
    "    value=None,\n",
    "    options=[\"Apply\", \"Reset\", \"Close\"],\n",
    "    button_style=\"primary\",\n",
    ")\n",
    "btns.style.button_width = \"80px\"\n",
    "\n",
    "output = widgets.Output()\n",
    "\n",
    "box = widgets.VBox([dropdown, btns, output])\n",
    "box"
   ]
  },
  {
   "cell_type": "code",
   "execution_count": null,
   "metadata": {},
   "outputs": [],
   "source": [
    "def dropdown_change(change):\n",
    "    if change['new']:\n",
    "        with output:\n",
    "            output.clear_output()\n",
    "            print(change['new'])\n",
    "            \n",
    "dropdown.observe(dropdown_change, \"value\")"
   ]
  },
  {
   "cell_type": "code",
   "execution_count": null,
   "metadata": {},
   "outputs": [],
   "source": [
    "def button_click(change):\n",
    "    with output:\n",
    "        output.clear_output()\n",
    "        if change['new'] == \"Apply\":\n",
    "            if dropdown.value is None:\n",
    "                print(\"Please select a satellie from the dropdown list.\")\n",
    "            else:\n",
    "                print(f\"You selected {dropdown.value}\")\n",
    "        elif change['new'] == 'Reset':\n",
    "            dropdown.value = None\n",
    "        else:\n",
    "            box.close()\n",
    "            \n",
    "btns.observe(button_click, \"value\")"
   ]
  },
  {
   "cell_type": "markdown",
   "metadata": {},
   "source": [
    "### Third example \n",
    "\n",
    "- https://geemap.org/notebooks/39_timelapse\n",
    "- https://geemap.org/notebooks/71_timelapse\n",
    "- https://gishub.org/gee-ngrok\n",
    "\n",
    "![](https://i.imgur.com/adwTxEo.png)"
   ]
  }
 ],
 "metadata": {
  "hide_input": false,
  "kernelspec": {
   "display_name": "Python 3",
   "language": "python",
   "name": "python3"
  },
  "language_info": {
   "codemirror_mode": {
    "name": "ipython",
    "version": 3
   },
   "file_extension": ".py",
   "mimetype": "text/x-python",
   "name": "python",
   "nbconvert_exporter": "python",
   "pygments_lexer": "ipython3",
   "version": "3.8.5"
  },
  "toc": {
   "base_numbering": 1,
   "nav_menu": {},
   "number_sections": true,
   "sideBar": true,
   "skip_h1_title": false,
   "title_cell": "Table of Contents",
   "title_sidebar": "Contents",
   "toc_cell": false,
   "toc_position": {},
   "toc_section_display": true,
   "toc_window_display": false
  },
  "varInspector": {
   "cols": {
    "lenName": 16,
    "lenType": 16,
    "lenVar": 40
   },
   "kernels_config": {
    "python": {
     "delete_cmd_postfix": "",
     "delete_cmd_prefix": "del ",
     "library": "var_list.py",
     "varRefreshCmd": "print(var_dic_list())"
    },
    "r": {
     "delete_cmd_postfix": ") ",
     "delete_cmd_prefix": "rm(",
     "library": "var_list.r",
     "varRefreshCmd": "cat(var_dic_list()) "
    }
   },
   "types_to_exclude": [
    "module",
    "function",
    "builtin_function_or_method",
    "instance",
    "_Feature"
   ],
   "window_display": false
  }
 },
 "nbformat": 4,
 "nbformat_minor": 4
}
